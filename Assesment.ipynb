{
  "metadata": {
    "language_info": {
      "codemirror_mode": {
        "name": "python",
        "version": 3
      },
      "file_extension": ".py",
      "mimetype": "text/x-python",
      "name": "python",
      "nbconvert_exporter": "python",
      "pygments_lexer": "ipython3",
      "version": "3.8"
    },
    "kernelspec": {
      "name": "python",
      "display_name": "Pyolite",
      "language": "python"
    }
  },
  "nbformat_minor": 4,
  "nbformat": 4,
  "cells": [
    {
      "cell_type": "markdown",
      "source": "# My Jupyter Notebook IBM Watson Studio",
      "metadata": {}
    },
    {
      "cell_type": "markdown",
      "source": "__Vinitha__",
      "metadata": {}
    },
    {
      "cell_type": "markdown",
      "source": "Data Scientist",
      "metadata": {}
    },
    {
      "cell_type": "markdown",
      "source": "*I want to persue my career as a Data Scientist in Professional Services main focuse being in collecting data, storing it and guarantee its security with the help of concepts, tools and processes we can get the insights and find the missing pieces which further helps business make effective decisions.*",
      "metadata": {}
    },
    {
      "cell_type": "markdown",
      "source": "### This code gives sum of two numbers ###",
      "metadata": {}
    },
    {
      "cell_type": "code",
      "source": "a=40\nb=30\nc=a+b\nprint(c)",
      "metadata": {
        "trusted": true
      },
      "execution_count": 7,
      "outputs": [
        {
          "name": "stdout",
          "text": "70\n",
          "output_type": "stream"
        }
      ]
    },
    {
      "cell_type": "markdown",
      "source": "* One\n- Two \n+ Three",
      "metadata": {}
    },
    {
      "cell_type": "markdown",
      "source": "[This is a hyperlink](https:\\\\google.com)",
      "metadata": {}
    },
    {
      "cell_type": "markdown",
      "source": "An image : \n![alt text](https://github.com/adam-p/markdown-here/raw/master/src/common/images/icon48.png \"Logo Title Text 1\")",
      "metadata": {}
    }
  ]
}